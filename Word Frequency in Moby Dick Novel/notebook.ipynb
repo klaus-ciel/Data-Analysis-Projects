{
 "cells": [
  {
   "cell_type": "markdown",
   "id": "c73f3c46-aa71-4901-8171-62a6137cb0d0",
   "metadata": {},
   "source": [
    "# 1. Tools for text processing\n",
    "\n",
    "What are the most frequent words in Herman Melville's novel, Moby Dick, and how often do they occur?\n",
    "\n",
    "In this notebook, we'll scrape the novel 'Moby Dick' from the website Project Gutenberg (which contains a large corpus of books) using the Python package *requests*. Then we'll extract words from this web data using *BeautifulSoup*. Finally, we'll dive into analyzing the distribution of words using the Natural Language ToolKit(*nltk*)\n",
    "\n",
    "The *Data Science pipeline* we'll build in this notebook can be used to visualize the word frequency tools used here apply of any novel that you can find on Project Gutenberg. The natural language processing tools used here apply to much of the data that data scientists encounter as a vast proportion of the world's data is unstructured data and includes a great deal of text.\n",
    "\n",
    "Let's start by loading in the three main Python packages we are going to use."
   ]
  },
  {
   "cell_type": "code",
   "execution_count": 1,
   "id": "d6f5d6fc-3d78-4f3b-b2ca-6cce296dbc1e",
   "metadata": {},
   "outputs": [],
   "source": [
    "# Importing requests, BeautifulSoup and nltk\n",
    "import requests\n",
    "from bs4 import BeautifulSoup\n",
    "import nltk"
   ]
  },
  {
   "cell_type": "markdown",
   "id": "39ff1bb0-2763-4c67-93cc-fb3839d27c3a",
   "metadata": {},
   "source": [
    "# 2. Request Moby Dick\n",
    "To analyze Moby Dick, we need to get the contents of Moby Dick from *somewhere*. Luckily, the text is freely aavailable online at Project Gutenberg as an HTML file.\n",
    "https://www.gutenberg.org/files/2701/2701-h/2701-h.htm.\n",
    "\n",
    "**Note** that HTML stands for Hypertext Markup Language and is the standard markup language for the web.\n",
    "\n",
    "To fetch the HTML file with Moby Dick we're going to use the *request* package to make a *GET* request for the website, that is we are getting data from it. This is what you're doing through a browser when visiting a webpage, but now we're getting the requested page directly into Python instead."
   ]
  },
  {
   "cell_type": "code",
   "execution_count": 2,
   "id": "89dd011c-4108-4ce1-aaa2-eb4838e8014b",
   "metadata": {},
   "outputs": [
    {
     "data": {
      "text/plain": [
       "'<?xml version=\"1.0\" encoding=\"utf-8\"?>\\r\\n\\r\\n<!DOCTYPE html\\r\\n   PUBLIC \"-//W3C//DTD XHTML 1.0 Strict//EN\"\\r\\n   \"http://www.w3.org/TR/xhtml1/DTD/xhtml1-strict.dtd\" >\\r\\n\\r\\n<html xmlns=\"http://www.w3.org/1999/xhtml\" lang=\"en\">\\r\\n  <head>\\r\\n    <title>\\r\\n      Moby Dick; Or the Whale, by Herman Melville\\r\\n    </title>\\r\\n    <style type=\"text/css\" xml:space=\"preserve\">\\r\\n\\r\\n    body { background:#faebd0; color:black; margin-left:15%; margin-right:15%; text-align:justify }\\r\\n    P { text-indent: 1em; margin-top: .25em; margin-bottom: .25em; }\\r\\n    H1,H2,H3,H4,H5,H6 { text-align: center; margin-left: 15%; margin-right: 15%; }\\r\\n    hr  { width: 50%; text-align: center;}\\r\\n    .foot { margin-left: 20%; margin-right: 20%; text-align: justify; text-indent: -3em; font-size: 90%; }\\r\\n    blockquote {font-size: 100%; margin-left: 0%; margin-right: 0%;}\\r\\n    .mynote    {background-color: #DDE; color: #000; padding: .5em; margin-left: 10%; margin-right: 10%; font-family: sans-serif; font-size: 95%;}\\r\\n    .toc       { margin-left: 10%; margin-bottom: .75em;}\\r\\n    .toc2      { margin-left: 20%;}\\r\\n    div.fig    { display:block; margin:0 auto; text-align:center; }\\r\\n    div.middle { margin-left: 20%; margin-right: 20%; text-align: justify; }\\r\\n    .figleft   {float: left; margin-left: 0%; margin-right: 1%;}\\r\\n    .figright  {float: right; margin-right: 0%; margin-left: 1%;}\\r\\n    .pagenum   {display:inline; font-size: 70%; font-style:normal;\\r\\n               margin: 0; padding: 0; position: absolute; right: 1%;\\r\\n               text-align: right;}\\r\\n    pre        { font-family: times new roman; font-size: 100%; margin-left: 10%;}\\r\\n\\r\\n    table      {margin-left: 10%;}\\r\\n\\r\\na:link {color:blue;\\r\\n\\t\\ttext-decoration:none}\\r\\nlink {color:blue;\\r\\n\\t\\ttext-decoration:none}\\r\\na:visited {color:blue;\\r\\n\\t\\ttext-decoration:none}\\r\\na:hover {color:red}\\r\\n\\r\\n</style>\\r\\n  </head>\\r\\n  <body>\\r\\n<pre xml:space=\"preserve\">\\r\\n\\r\\nThe Project Gutenberg EBook of Moby Dick; or The Whale, by Herman Melville\\r\\n\\r\\nThis eBook is for the use of anyone anywh'"
      ]
     },
     "execution_count": 2,
     "metadata": {},
     "output_type": "execute_result"
    }
   ],
   "source": [
    "# Getting the Moby Dick HTML\n",
    "r = requests.get('https://s3.amazonaws.com/assets.datacamp.com/production/project_147/datasets/2701-h.htm')\n",
    "\n",
    "# Setting the correct text encoding of the HTML page\n",
    "r.encoding = 'utf-8'\n",
    "\n",
    "# Extracting the HTML from the request object\n",
    "html = r.text\n",
    "\n",
    "# Printing the first 2000 characters in html\n",
    "html[:2000]"
   ]
  },
  {
   "cell_type": "markdown",
   "id": "a11d9109-4a62-4534-8cd3-39ca926f8817",
   "metadata": {},
   "source": [
    "# 3. Get the text from the HTML\n",
    "This HTML is not quite what we want. However, it does contain what we want: the text of Moby Dick. What we need to do now is wrangle this HTML to extract the text of the novel. For this we'll use the package *BeautifulSoup*.\n",
    "\n",
    "Firstly, a word on the name of the package: Beautiful Soup? In web development, the term \"tag soup\" refers to structurally or syntactically incorrect HTML code written for a webpage. What Beautiful Soup does best is to make tag soup beautiful agian and to extract information from it with ease! In fact, the main object created and queried when using this package is called **BeautifulSoup**. After creating the soup, we can use its **.get_text()** method to extract the text."
   ]
  },
  {
   "cell_type": "code",
   "execution_count": 3,
   "id": "caf179f7-0b3a-4c67-9ec1-438e94c45ddc",
   "metadata": {},
   "outputs": [
    {
     "data": {
      "text/plain": [
       "' and see the watery part of\\n      the world. It is a way I have of driving off the spleen and regulating the\\n      circulation. Whenever I find myself growing grim about the mouth; whenever\\n      it is a damp, drizzly November in my soul; whenever I find myself\\n      involuntarily pausing before coffin warehouses, and bringing up the rear\\n      of every funeral I meet; and especially whenever my hypos get such an\\n      upper hand of me, that it requires a strong moral principle to prevent me\\n      from deliberately stepping into the street, and methodically knocking\\n      peoples hats offthen, I account it high time to get to sea as soon\\n      as I can. This is my substitute for pistol and ball. With a philosophical\\n      flourish Cato throws himself upon his sword; I quietly take to the ship.\\n      There is nothing surprising in this. If they but knew it, almost all men\\n      in their degree, some time or other, cherish very nearly the same feelings\\n      towards the ocean with me.\\n    \\n\\n      There now is your insular city of the Manhattoes, belted round by wharves\\n      as Indian isles by coral reefscommerce surrounds it with her surf.\\n      Right and left, the streets take you waterward. Its extreme downtown is\\n      the battery, where that noble mole is washed by waves, and cooled by\\n      breezes, which a few hours previous were out of sight of land. Look at the\\n      crowds of water-gazers there.\\n    \\n\\n      Circumambulate the city of a dreamy Sabbath afternoon. Go from Corlears\\n      Hook to Coenties Slip, and from thence, by Whitehall, northward. What do\\n      you see?Posted like silent sentinels all around the town, stand\\n      thousands upon thousands of mortal men fixed in ocean reveries. Some\\n      leaning against the spiles; some seated upon the pier-heads; some looking\\n      over the bulwarks of ships from China; some high aloft in the rigging, as\\n      if striving to get a still better seaward peep. But these are all\\n      landsmen; of week days pent'"
      ]
     },
     "execution_count": 3,
     "metadata": {},
     "output_type": "execute_result"
    }
   ],
   "source": [
    "# Creating a BeautifulSoup object from the HTML\n",
    "soup = BeautifulSoup(html,\"xml\")\n",
    "\n",
    "# Getting the text out of the soup\n",
    "text = soup.get_text()\n",
    "\n",
    "# Printing out text between characters 32000 and 34000\n",
    "text[32000:34000]"
   ]
  },
  {
   "cell_type": "markdown",
   "id": "fe636d4e-0c52-428f-87cf-7d814c76788a",
   "metadata": {},
   "source": [
    "# 4. Extract the words\n",
    "We now have the text of the novel. There is some unwanted stuff at the start and some unwanted stuff at the end. We could remove it, but this content is so much smaller in amount than the text of Moby Dick that, to a first approximation, it is okay to leave it in.\n",
    "\n",
    "Now that we have the text of interest, it's time to count how many times each words appears, and for this we'll use *nltk* - the Natural Language Toolkit. We'll start by tokenizing the text, that is, remove everything that isn't a word(whitespace, punctuation,etc.) and then split the text into a list of words."
   ]
  },
  {
   "cell_type": "code",
   "execution_count": 4,
   "id": "975666b1-74ff-4718-aaaf-90bbd55e09a7",
   "metadata": {},
   "outputs": [
    {
     "data": {
      "text/plain": [
       "['Moby', 'Dick', 'Or', 'the', 'Whale', 'by', 'Herman', 'Melville']"
      ]
     },
     "execution_count": 4,
     "metadata": {},
     "output_type": "execute_result"
    }
   ],
   "source": [
    "# Creating a tokenizer\n",
    "tokenizer = nltk.tokenize.RegexpTokenizer(pattern='\\w+')\n",
    "\n",
    "# Tokenizing the text\n",
    "tokens = tokenizer.tokenize(text=text)\n",
    "\n",
    "# Printing out the first 8 words / tokens\n",
    "tokens[:8]"
   ]
  },
  {
   "cell_type": "markdown",
   "id": "6f4384ba-84f7-44f5-92df-3cb6bd58e91e",
   "metadata": {},
   "source": [
    "# 5. Make the words lowercase\n",
    "\n",
    "OK! We're nearly there. Note that in the above 'Or' has a capital 'O' and that in other places it may not, but both 'Or' and 'or' should be counted as the same word. For this reasong, we should build a list of all words in Moby Dick in which all capital letters have been made lower case."
   ]
  },
  {
   "cell_type": "code",
   "execution_count": 5,
   "id": "53a9f696-bb00-47c3-a755-ba0991e3b56d",
   "metadata": {},
   "outputs": [
    {
     "data": {
      "text/plain": [
       "['moby', 'dick', 'or', 'the', 'whale', 'by', 'herman', 'melville']"
      ]
     },
     "execution_count": 5,
     "metadata": {},
     "output_type": "execute_result"
    }
   ],
   "source": [
    "# A new list to hold the lowercased words\n",
    "words = [token.lower() for token in tokens]\n",
    "\n",
    "# Printing out the first 8 words/tokens\n",
    "words[:8]"
   ]
  },
  {
   "cell_type": "markdown",
   "id": "f63c42ad-522f-46e4-a8ff-88a5a1af2bf7",
   "metadata": {},
   "source": [
    "# 6. Load in stop words\n",
    "It is commong practive to remove words that appear a lot in the English language such 'the', 'of' and 'a' because they're not so interesting. Such words are known as *stopwords*. The package **nltk** includes a good list of stop words in English that we can use."
   ]
  },
  {
   "cell_type": "code",
   "execution_count": 6,
   "id": "281d9ff3-79f0-4d8b-8d65-e3cc1a41ec28",
   "metadata": {},
   "outputs": [
    {
     "data": {
      "text/plain": [
       "['i', 'me', 'my', 'myself', 'we', 'our', 'ours', 'ourselves']"
      ]
     },
     "execution_count": 6,
     "metadata": {},
     "output_type": "execute_result"
    }
   ],
   "source": [
    "# nltk.download('stopwords')\n",
    "\n",
    "# Getting the English stop words from nltk\n",
    "sw = nltk.corpus.stopwords.words('english')\n",
    "\n",
    "# Printing out the first eight stop words\n",
    "sw[:8]"
   ]
  },
  {
   "cell_type": "markdown",
   "id": "01d438c2-cce4-4b0b-bd6b-be16aee2a894",
   "metadata": {},
   "source": [
    "# 7. Remove stop words in Moby Dick\n",
    "\n",
    "We now want to create a new list with all words in Moby Dick, except those that are stop words (that is, those words listed in sw). One way to get this list is to loop over all elements of *words* and add each word to a new list is thry are not in sw."
   ]
  },
  {
   "cell_type": "code",
   "execution_count": 7,
   "id": "cb8507c4-6149-4330-bd40-eeee4e293c72",
   "metadata": {},
   "outputs": [
    {
     "data": {
      "text/plain": [
       "['moby', 'dick', 'whale', 'herman', 'melville']"
      ]
     },
     "execution_count": 7,
     "metadata": {},
     "output_type": "execute_result"
    }
   ],
   "source": [
    "# A new list to hold Moby Dick with No Stop words\n",
    "words_ns = [word for word in words if word not in sw]\n",
    "\n",
    "# Printing the first 5 words_ns to check that stop words are gone\n",
    "words_ns[:5]"
   ]
  },
  {
   "cell_type": "markdown",
   "id": "1ba1fb06-ff8f-42fd-b464-8fc346145562",
   "metadata": {},
   "source": [
    "# 8. We have the answer\n",
    "\n",
    "Our Original question was :\n",
    "        \n",
    "        What are the most frequent words in Herman Melville's novel Moby Dick and how often do they occur?\n",
    "\n",
    "We are now ready to answer that. Let's create a word frequency distribution plot using nltk."
   ]
  },
  {
   "cell_type": "code",
   "execution_count": 8,
   "id": "f97da728-ea49-4f45-ba34-2643d3db6c41",
   "metadata": {},
   "outputs": [
    {
     "data": {
      "image/png": "[encoded data removed]",
      "text/plain": [
       "<Figure size 640x480 with 1 Axes>"
      ]
     },
     "metadata": {},
     "output_type": "display_data"
    },
    {
     "data": {
      "text/plain": [
       "<Axes: xlabel='Samples', ylabel='Counts'>"
      ]
     },
     "execution_count": 8,
     "metadata": {},
     "output_type": "execute_result"
    }
   ],
   "source": [
    "# Display figures inline\n",
    "%matplotlib inline\n",
    "\n",
    "# Creating word frequency distribution\n",
    "freqdist = nltk.FreqDist(words_ns)\n",
    "\n",
    "# Plotting the word frequency distribution\n",
    "freqdist.plot(25)"
   ]
  },
  {
   "cell_type": "markdown",
   "id": "414c5d78-94e1-44db-94e0-8a932daedafb",
   "metadata": {},
   "source": [
    "# 9. The most common word\n",
    "The above frequency distribution plot above is the answer to our question.\n",
    "\n",
    "#### What's the most common word in Moby Dick?"
   ]
  },
  {
   "cell_type": "code",
   "execution_count": 9,
   "id": "7c1e02a8-4105-4caf-b6a0-c4faebf0719a",
   "metadata": {},
   "outputs": [
    {
     "data": {
      "text/plain": [
       "'whale'"
      ]
     },
     "execution_count": 9,
     "metadata": {},
     "output_type": "execute_result"
    }
   ],
   "source": [
    "freqdist.max()"
   ]
  },
  {
   "cell_type": "code",
   "execution_count": 10,
   "id": "51719f26-db44-4702-831f-d07f773b19a7",
   "metadata": {},
   "outputs": [
    {
     "data": {
      "text/plain": [
       "1106"
      ]
     },
     "execution_count": 10,
     "metadata": {},
     "output_type": "execute_result"
    }
   ],
   "source": [
    "freqdist['whale']"
   ]
  }
 ],
 "metadata": {
  "kernelspec": {
   "display_name": "myProjects",
   "language": "python",
   "name": "myprojects"
  },
  "language_info": {
   "codemirror_mode": {
    "name": "ipython",
    "version": 3
   },
   "file_extension": ".py",
   "mimetype": "text/x-python",
   "name": "python",
   "nbconvert_exporter": "python",
   "pygments_lexer": "ipython3",
   "version": "3.11.5"
  }
 },
 "nbformat": 4,
 "nbformat_minor": 5
}
